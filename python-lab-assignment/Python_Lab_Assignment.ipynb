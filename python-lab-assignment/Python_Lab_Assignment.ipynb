{
 "cells": [
  {
   "cell_type": "markdown",
   "metadata": {},
   "source": [
    "# PyCity Schools Analysis\n",
    "\n",
    "* As a whole, schools with higher budgets, did not yield better test results. By contrast, schools with higher spending per student actually (\\\\$645 - 675) underperformed compared to schools with smaller budgets (\\\\$585 per student).\n",
    "\n",
    "* As a whole, smaller and medium sized schools dramatically out-performed large sized schools on passing math performances (89-91% passing vs 67%).\n",
    "\n",
    "* As a whole, charter schools out-performed the public district schools across all metrics. However, more analysis will be required to glean if the effect is due to school practices or the fact that charter schools tend to serve smaller student populations per school. \n",
    "---"
   ]
  },
  {
   "cell_type": "markdown",
   "metadata": {},
   "source": [
    "**Note:**\n",
    "Instructions have been included for each segment. You do not have to follow them exactly, but they are included to help you think through the steps."
   ]
  },
  {
   "cell_type": "code",
   "execution_count": 13,
   "metadata": {
    "ExecuteTime": {
     "end_time": "2022-08-06T06:08:31.925112Z",
     "start_time": "2022-08-06T06:08:29.337754Z"
    }
   },
   "outputs": [
    {
     "data": {
      "text/html": [
       "<div>\n",
       "<style scoped>\n",
       "    .dataframe tbody tr th:only-of-type {\n",
       "        vertical-align: middle;\n",
       "    }\n",
       "\n",
       "    .dataframe tbody tr th {\n",
       "        vertical-align: top;\n",
       "    }\n",
       "\n",
       "    .dataframe thead th {\n",
       "        text-align: right;\n",
       "    }\n",
       "</style>\n",
       "<table border=\"1\" class=\"dataframe\">\n",
       "  <thead>\n",
       "    <tr style=\"text-align: right;\">\n",
       "      <th></th>\n",
       "      <th>Student ID</th>\n",
       "      <th>student_name</th>\n",
       "      <th>gender</th>\n",
       "      <th>grade</th>\n",
       "      <th>school_name</th>\n",
       "      <th>reading_score</th>\n",
       "      <th>math_score</th>\n",
       "      <th>School ID</th>\n",
       "      <th>type</th>\n",
       "      <th>size</th>\n",
       "      <th>budget</th>\n",
       "    </tr>\n",
       "  </thead>\n",
       "  <tbody>\n",
       "    <tr>\n",
       "      <th>0</th>\n",
       "      <td>0</td>\n",
       "      <td>Paul Bradley</td>\n",
       "      <td>M</td>\n",
       "      <td>9th</td>\n",
       "      <td>Huang High School</td>\n",
       "      <td>66</td>\n",
       "      <td>79</td>\n",
       "      <td>0</td>\n",
       "      <td>District</td>\n",
       "      <td>2917</td>\n",
       "      <td>1910635</td>\n",
       "    </tr>\n",
       "    <tr>\n",
       "      <th>1</th>\n",
       "      <td>1</td>\n",
       "      <td>Victor Smith</td>\n",
       "      <td>M</td>\n",
       "      <td>12th</td>\n",
       "      <td>Huang High School</td>\n",
       "      <td>94</td>\n",
       "      <td>61</td>\n",
       "      <td>0</td>\n",
       "      <td>District</td>\n",
       "      <td>2917</td>\n",
       "      <td>1910635</td>\n",
       "    </tr>\n",
       "    <tr>\n",
       "      <th>2</th>\n",
       "      <td>2</td>\n",
       "      <td>Kevin Rodriguez</td>\n",
       "      <td>M</td>\n",
       "      <td>12th</td>\n",
       "      <td>Huang High School</td>\n",
       "      <td>90</td>\n",
       "      <td>60</td>\n",
       "      <td>0</td>\n",
       "      <td>District</td>\n",
       "      <td>2917</td>\n",
       "      <td>1910635</td>\n",
       "    </tr>\n",
       "    <tr>\n",
       "      <th>3</th>\n",
       "      <td>3</td>\n",
       "      <td>Dr. Richard Scott</td>\n",
       "      <td>M</td>\n",
       "      <td>12th</td>\n",
       "      <td>Huang High School</td>\n",
       "      <td>67</td>\n",
       "      <td>58</td>\n",
       "      <td>0</td>\n",
       "      <td>District</td>\n",
       "      <td>2917</td>\n",
       "      <td>1910635</td>\n",
       "    </tr>\n",
       "    <tr>\n",
       "      <th>4</th>\n",
       "      <td>4</td>\n",
       "      <td>Bonnie Ray</td>\n",
       "      <td>F</td>\n",
       "      <td>9th</td>\n",
       "      <td>Huang High School</td>\n",
       "      <td>97</td>\n",
       "      <td>84</td>\n",
       "      <td>0</td>\n",
       "      <td>District</td>\n",
       "      <td>2917</td>\n",
       "      <td>1910635</td>\n",
       "    </tr>\n",
       "  </tbody>\n",
       "</table>\n",
       "</div>"
      ],
      "text/plain": [
       "   Student ID       student_name gender grade        school_name  \\\n",
       "0           0       Paul Bradley      M   9th  Huang High School   \n",
       "1           1       Victor Smith      M  12th  Huang High School   \n",
       "2           2    Kevin Rodriguez      M  12th  Huang High School   \n",
       "3           3  Dr. Richard Scott      M  12th  Huang High School   \n",
       "4           4         Bonnie Ray      F   9th  Huang High School   \n",
       "\n",
       "   reading_score  math_score  School ID      type  size   budget  \n",
       "0             66          79          0  District  2917  1910635  \n",
       "1             94          61          0  District  2917  1910635  \n",
       "2             90          60          0  District  2917  1910635  \n",
       "3             67          58          0  District  2917  1910635  \n",
       "4             97          84          0  District  2917  1910635  "
      ]
     },
     "execution_count": 13,
     "metadata": {},
     "output_type": "execute_result"
    }
   ],
   "source": [
    "# Dependencies and Setup\n",
    "import pandas as pd\n",
    "import numpy as np\n",
    "\n",
    "# File to Load (Remember to Change These)\n",
    "school_data_to_load = \"data/schools_complete.csv\"\n",
    "student_data_to_load = \"data/students_complete.csv\"\n",
    "\n",
    "# Read School and Student Data File and store into Pandas Data Frames\n",
    "school_data = pd.read_csv(school_data_to_load)\n",
    "student_data = pd.read_csv(student_data_to_load)\n",
    "\n",
    "# Combine the data into a single dataset\n",
    "school_data_complete = pd.merge(student_data, school_data, how=\"left\", on=[\"school_name\", \"school_name\"])\n",
    "school_data_complete.head()\n",
    "\n",
    "# school_data_complete.count()"
   ]
  },
  {
   "cell_type": "markdown",
   "metadata": {},
   "source": [
    "## District Summary\n",
    "\n",
    "* Calculate the total number of schools\n",
    "\n",
    "* Calculate the total number of students\n",
    "\n",
    "* Calculate the total budget\n",
    "\n",
    "* Calculate the average math score \n",
    "\n",
    "* Calculate the average reading score\n",
    "\n",
    "* Calculate the overall passing rate (overall average score), i.e. (avg. math score + avg. reading score)/2\n",
    "\n",
    "* Calculate the percentage of students with a passing math score (70 or greater)\n",
    "\n",
    "* Calculate the percentage of students with a passing reading score (70 or greater)\n",
    "\n",
    "* Create a dataframe to hold the above results\n",
    "\n",
    "* Optional: give the displayed data cleaner formatting"
   ]
  },
  {
   "cell_type": "code",
   "execution_count": 6,
   "metadata": {},
   "outputs": [],
   "source": [
    "# Create a District Summary\n"
   ]
  },
  {
   "cell_type": "code",
   "execution_count": 21,
   "metadata": {},
   "outputs": [
    {
     "data": {
      "text/plain": [
       "15"
      ]
     },
     "execution_count": 21,
     "metadata": {},
     "output_type": "execute_result"
    }
   ],
   "source": [
    "# Total number of schools\n",
    "\n",
    "unique_school_name=school_data_complete['school_name'].unique()\n",
    "\n",
    "\n",
    "total_school_number=len(unique_school_name)\n",
    "\n",
    "total_school_number"
   ]
  },
  {
   "cell_type": "code",
   "execution_count": 22,
   "metadata": {},
   "outputs": [
    {
     "data": {
      "text/plain": [
       "39170"
      ]
     },
     "execution_count": 22,
     "metadata": {},
     "output_type": "execute_result"
    }
   ],
   "source": [
    "# Total number of students\n",
    "\n",
    "total_students_number=school_data_complete[\"student_name\"].count()\n",
    "total_students_number\n"
   ]
  },
  {
   "cell_type": "code",
   "execution_count": 24,
   "metadata": {},
   "outputs": [
    {
     "data": {
      "text/plain": [
       "24649428"
      ]
     },
     "execution_count": 24,
     "metadata": {},
     "output_type": "execute_result"
    }
   ],
   "source": [
    "# Total budget\n",
    "total_budget = school_data[\"budget\"].sum()\n",
    "total_budget\n",
    "\n"
   ]
  },
  {
   "cell_type": "code",
   "execution_count": 25,
   "metadata": {},
   "outputs": [
    {
     "data": {
      "text/plain": [
       "78.98537145774827"
      ]
     },
     "execution_count": 25,
     "metadata": {},
     "output_type": "execute_result"
    }
   ],
   "source": [
    "# Average math score\n",
    "\n",
    "average_math_score = school_data_complete[\"math_score\"].mean()\n",
    "average_math_score\n"
   ]
  },
  {
   "cell_type": "code",
   "execution_count": 26,
   "metadata": {},
   "outputs": [
    {
     "data": {
      "text/plain": [
       "81.87784018381414"
      ]
     },
     "execution_count": 26,
     "metadata": {},
     "output_type": "execute_result"
    }
   ],
   "source": [
    "# Average reading score\n",
    "\n",
    "average_reading_score = school_data_complete[\"reading_score\"].mean()\n",
    "average_reading_score\n"
   ]
  },
  {
   "cell_type": "code",
   "execution_count": 27,
   "metadata": {},
   "outputs": [
    {
     "data": {
      "text/plain": [
       "81.87784018381414"
      ]
     },
     "execution_count": 27,
     "metadata": {},
     "output_type": "execute_result"
    }
   ],
   "source": [
    "# Overall average score\n",
    "average_reading_score = school_data_complete[\"reading_score\"].mean()\n",
    "average_reading_score\n",
    "\n"
   ]
  },
  {
   "cell_type": "code",
   "execution_count": 28,
   "metadata": {},
   "outputs": [
    {
     "data": {
      "text/plain": [
       "74.9808526933878"
      ]
     },
     "execution_count": 28,
     "metadata": {},
     "output_type": "execute_result"
    }
   ],
   "source": [
    "# Percentage of passing math (70 or greater)\n",
    "\n",
    "students_passing_math = school_data_complete.loc[school_data_complete[\"math_score\"] >= 70]\n",
    "number_students_passing_math = students_passing_math[\"Student ID\"].count()\n",
    "\n",
    "percent_passing_math = (number_students_passing_math / total_students_number) * 100\n",
    "\n",
    "percent_passing_math\n"
   ]
  },
  {
   "cell_type": "code",
   "execution_count": null,
   "metadata": {},
   "outputs": [],
   "source": []
  },
  {
   "cell_type": "markdown",
   "metadata": {},
   "source": [
    "## School Summary"
   ]
  },
  {
   "cell_type": "markdown",
   "metadata": {},
   "source": [
    "* Create an overview table that summarizes key metrics about each school, including:\n",
    "  * School Name \n",
    "  * School Type\n",
    "  * Total Students\n",
    "  * Total School Budget\n",
    "  * Per Student Budget\n",
    "  * Average Math Score\n",
    "  * Average Reading Score\n",
    "  * % Passing Math\n",
    "  * % Passing Reading\n",
    "  * Overall Passing Rate (Average of the above two)\n",
    "  \n",
    "* Create a dataframe to hold the above results"
   ]
  },
  {
   "cell_type": "code",
   "execution_count": 72,
   "metadata": {},
   "outputs": [],
   "source": [
    "#school name\n",
    "school_name = school_data_complete.set_index('school_name').groupby(['school_name'])\n",
    "# school types \n",
    "school_type = school_data.set_index('school_name')['type']\n",
    "# total students\n",
    "total_student = school_name['Student ID'].count()\n",
    "# Total school budget\n",
    "total_school_budget = school_data.set_index('school_name')['budget']\n",
    "# per student budget\n",
    "budget_per_student = (school_data.set_index('school_name')['budget']/school_data.set_index('school_name')['size'])\n",
    "# Average Math Score\n",
    "average_math_score = school_name['math_score'].mean()\n",
    "# Average Reading Score\n",
    "average_reading_score = school_name['reading_score'].mean()\n",
    "# % Passing Math\n",
    "pass_math_percent = school_data_complete[school_data_complete['math_score'] >= 70].groupby('school_name')['Student ID'].count()/total_student*100\n",
    "# % Passing Reading\n",
    "pass_read_percent = school_data_complete[school_data_complete['reading_score'] >= 70].groupby('school_name')['Student ID'].count()/total_student*100\n",
    "# % Overall Passing (The percentage of students that passed math and reading.\n",
    "overall_pass = school_data_complete[(school_data_complete['reading_score'] >= 70) & (school_data_complete['math_score'] >= 70)].groupby('school_name')['Student ID'].count()/total_student*100\n",
    "\n",
    "\n"
   ]
  },
  {
   "cell_type": "code",
   "execution_count": 74,
   "metadata": {},
   "outputs": [
    {
     "data": {
      "text/html": [
       "<style type=\"text/css\">\n",
       "</style>\n",
       "<table id=\"T_fff31\">\n",
       "  <thead>\n",
       "    <tr>\n",
       "      <th class=\"blank level0\" >&nbsp;</th>\n",
       "      <th id=\"T_fff31_level0_col0\" class=\"col_heading level0 col0\" >School Type</th>\n",
       "      <th id=\"T_fff31_level0_col1\" class=\"col_heading level0 col1\" >Total Students</th>\n",
       "      <th id=\"T_fff31_level0_col2\" class=\"col_heading level0 col2\" >Total School Budget</th>\n",
       "      <th id=\"T_fff31_level0_col3\" class=\"col_heading level0 col3\" >Per Student Budget</th>\n",
       "      <th id=\"T_fff31_level0_col4\" class=\"col_heading level0 col4\" >Average Math Score</th>\n",
       "      <th id=\"T_fff31_level0_col5\" class=\"col_heading level0 col5\" >Average Reading Score</th>\n",
       "      <th id=\"T_fff31_level0_col6\" class=\"col_heading level0 col6\" >% Passing Math</th>\n",
       "      <th id=\"T_fff31_level0_col7\" class=\"col_heading level0 col7\" >% Passing Reading</th>\n",
       "      <th id=\"T_fff31_level0_col8\" class=\"col_heading level0 col8\" >% Overall Passing</th>\n",
       "    </tr>\n",
       "    <tr>\n",
       "      <th class=\"index_name level0\" >school_name</th>\n",
       "      <th class=\"blank col0\" >&nbsp;</th>\n",
       "      <th class=\"blank col1\" >&nbsp;</th>\n",
       "      <th class=\"blank col2\" >&nbsp;</th>\n",
       "      <th class=\"blank col3\" >&nbsp;</th>\n",
       "      <th class=\"blank col4\" >&nbsp;</th>\n",
       "      <th class=\"blank col5\" >&nbsp;</th>\n",
       "      <th class=\"blank col6\" >&nbsp;</th>\n",
       "      <th class=\"blank col7\" >&nbsp;</th>\n",
       "      <th class=\"blank col8\" >&nbsp;</th>\n",
       "    </tr>\n",
       "  </thead>\n",
       "  <tbody>\n",
       "    <tr>\n",
       "      <th id=\"T_fff31_level0_row0\" class=\"row_heading level0 row0\" >Bailey High School</th>\n",
       "      <td id=\"T_fff31_row0_col0\" class=\"data row0 col0\" >District</td>\n",
       "      <td id=\"T_fff31_row0_col1\" class=\"data row0 col1\" >4976</td>\n",
       "      <td id=\"T_fff31_row0_col2\" class=\"data row0 col2\" >$3,124,928.00</td>\n",
       "      <td id=\"T_fff31_row0_col3\" class=\"data row0 col3\" >$628.00</td>\n",
       "      <td id=\"T_fff31_row0_col4\" class=\"data row0 col4\" >77.048432</td>\n",
       "      <td id=\"T_fff31_row0_col5\" class=\"data row0 col5\" >81.033963</td>\n",
       "      <td id=\"T_fff31_row0_col6\" class=\"data row0 col6\" >66.680064</td>\n",
       "      <td id=\"T_fff31_row0_col7\" class=\"data row0 col7\" >81.933280</td>\n",
       "      <td id=\"T_fff31_row0_col8\" class=\"data row0 col8\" >54.642283</td>\n",
       "    </tr>\n",
       "    <tr>\n",
       "      <th id=\"T_fff31_level0_row1\" class=\"row_heading level0 row1\" >Cabrera High School</th>\n",
       "      <td id=\"T_fff31_row1_col0\" class=\"data row1 col0\" >Charter</td>\n",
       "      <td id=\"T_fff31_row1_col1\" class=\"data row1 col1\" >1858</td>\n",
       "      <td id=\"T_fff31_row1_col2\" class=\"data row1 col2\" >$1,081,356.00</td>\n",
       "      <td id=\"T_fff31_row1_col3\" class=\"data row1 col3\" >$582.00</td>\n",
       "      <td id=\"T_fff31_row1_col4\" class=\"data row1 col4\" >83.061895</td>\n",
       "      <td id=\"T_fff31_row1_col5\" class=\"data row1 col5\" >83.975780</td>\n",
       "      <td id=\"T_fff31_row1_col6\" class=\"data row1 col6\" >94.133477</td>\n",
       "      <td id=\"T_fff31_row1_col7\" class=\"data row1 col7\" >97.039828</td>\n",
       "      <td id=\"T_fff31_row1_col8\" class=\"data row1 col8\" >91.334769</td>\n",
       "    </tr>\n",
       "    <tr>\n",
       "      <th id=\"T_fff31_level0_row2\" class=\"row_heading level0 row2\" >Figueroa High School</th>\n",
       "      <td id=\"T_fff31_row2_col0\" class=\"data row2 col0\" >District</td>\n",
       "      <td id=\"T_fff31_row2_col1\" class=\"data row2 col1\" >2949</td>\n",
       "      <td id=\"T_fff31_row2_col2\" class=\"data row2 col2\" >$1,884,411.00</td>\n",
       "      <td id=\"T_fff31_row2_col3\" class=\"data row2 col3\" >$639.00</td>\n",
       "      <td id=\"T_fff31_row2_col4\" class=\"data row2 col4\" >76.711767</td>\n",
       "      <td id=\"T_fff31_row2_col5\" class=\"data row2 col5\" >81.158020</td>\n",
       "      <td id=\"T_fff31_row2_col6\" class=\"data row2 col6\" >65.988471</td>\n",
       "      <td id=\"T_fff31_row2_col7\" class=\"data row2 col7\" >80.739234</td>\n",
       "      <td id=\"T_fff31_row2_col8\" class=\"data row2 col8\" >53.204476</td>\n",
       "    </tr>\n",
       "    <tr>\n",
       "      <th id=\"T_fff31_level0_row3\" class=\"row_heading level0 row3\" >Ford High School</th>\n",
       "      <td id=\"T_fff31_row3_col0\" class=\"data row3 col0\" >District</td>\n",
       "      <td id=\"T_fff31_row3_col1\" class=\"data row3 col1\" >2739</td>\n",
       "      <td id=\"T_fff31_row3_col2\" class=\"data row3 col2\" >$1,763,916.00</td>\n",
       "      <td id=\"T_fff31_row3_col3\" class=\"data row3 col3\" >$644.00</td>\n",
       "      <td id=\"T_fff31_row3_col4\" class=\"data row3 col4\" >77.102592</td>\n",
       "      <td id=\"T_fff31_row3_col5\" class=\"data row3 col5\" >80.746258</td>\n",
       "      <td id=\"T_fff31_row3_col6\" class=\"data row3 col6\" >68.309602</td>\n",
       "      <td id=\"T_fff31_row3_col7\" class=\"data row3 col7\" >79.299014</td>\n",
       "      <td id=\"T_fff31_row3_col8\" class=\"data row3 col8\" >54.289887</td>\n",
       "    </tr>\n",
       "    <tr>\n",
       "      <th id=\"T_fff31_level0_row4\" class=\"row_heading level0 row4\" >Griffin High School</th>\n",
       "      <td id=\"T_fff31_row4_col0\" class=\"data row4 col0\" >Charter</td>\n",
       "      <td id=\"T_fff31_row4_col1\" class=\"data row4 col1\" >1468</td>\n",
       "      <td id=\"T_fff31_row4_col2\" class=\"data row4 col2\" >$917,500.00</td>\n",
       "      <td id=\"T_fff31_row4_col3\" class=\"data row4 col3\" >$625.00</td>\n",
       "      <td id=\"T_fff31_row4_col4\" class=\"data row4 col4\" >83.351499</td>\n",
       "      <td id=\"T_fff31_row4_col5\" class=\"data row4 col5\" >83.816757</td>\n",
       "      <td id=\"T_fff31_row4_col6\" class=\"data row4 col6\" >93.392371</td>\n",
       "      <td id=\"T_fff31_row4_col7\" class=\"data row4 col7\" >97.138965</td>\n",
       "      <td id=\"T_fff31_row4_col8\" class=\"data row4 col8\" >90.599455</td>\n",
       "    </tr>\n",
       "    <tr>\n",
       "      <th id=\"T_fff31_level0_row5\" class=\"row_heading level0 row5\" >Hernandez High School</th>\n",
       "      <td id=\"T_fff31_row5_col0\" class=\"data row5 col0\" >District</td>\n",
       "      <td id=\"T_fff31_row5_col1\" class=\"data row5 col1\" >4635</td>\n",
       "      <td id=\"T_fff31_row5_col2\" class=\"data row5 col2\" >$3,022,020.00</td>\n",
       "      <td id=\"T_fff31_row5_col3\" class=\"data row5 col3\" >$652.00</td>\n",
       "      <td id=\"T_fff31_row5_col4\" class=\"data row5 col4\" >77.289752</td>\n",
       "      <td id=\"T_fff31_row5_col5\" class=\"data row5 col5\" >80.934412</td>\n",
       "      <td id=\"T_fff31_row5_col6\" class=\"data row5 col6\" >66.752967</td>\n",
       "      <td id=\"T_fff31_row5_col7\" class=\"data row5 col7\" >80.862999</td>\n",
       "      <td id=\"T_fff31_row5_col8\" class=\"data row5 col8\" >53.527508</td>\n",
       "    </tr>\n",
       "    <tr>\n",
       "      <th id=\"T_fff31_level0_row6\" class=\"row_heading level0 row6\" >Holden High School</th>\n",
       "      <td id=\"T_fff31_row6_col0\" class=\"data row6 col0\" >Charter</td>\n",
       "      <td id=\"T_fff31_row6_col1\" class=\"data row6 col1\" >427</td>\n",
       "      <td id=\"T_fff31_row6_col2\" class=\"data row6 col2\" >$248,087.00</td>\n",
       "      <td id=\"T_fff31_row6_col3\" class=\"data row6 col3\" >$581.00</td>\n",
       "      <td id=\"T_fff31_row6_col4\" class=\"data row6 col4\" >83.803279</td>\n",
       "      <td id=\"T_fff31_row6_col5\" class=\"data row6 col5\" >83.814988</td>\n",
       "      <td id=\"T_fff31_row6_col6\" class=\"data row6 col6\" >92.505855</td>\n",
       "      <td id=\"T_fff31_row6_col7\" class=\"data row6 col7\" >96.252927</td>\n",
       "      <td id=\"T_fff31_row6_col8\" class=\"data row6 col8\" >89.227166</td>\n",
       "    </tr>\n",
       "    <tr>\n",
       "      <th id=\"T_fff31_level0_row7\" class=\"row_heading level0 row7\" >Huang High School</th>\n",
       "      <td id=\"T_fff31_row7_col0\" class=\"data row7 col0\" >District</td>\n",
       "      <td id=\"T_fff31_row7_col1\" class=\"data row7 col1\" >2917</td>\n",
       "      <td id=\"T_fff31_row7_col2\" class=\"data row7 col2\" >$1,910,635.00</td>\n",
       "      <td id=\"T_fff31_row7_col3\" class=\"data row7 col3\" >$655.00</td>\n",
       "      <td id=\"T_fff31_row7_col4\" class=\"data row7 col4\" >76.629414</td>\n",
       "      <td id=\"T_fff31_row7_col5\" class=\"data row7 col5\" >81.182722</td>\n",
       "      <td id=\"T_fff31_row7_col6\" class=\"data row7 col6\" >65.683922</td>\n",
       "      <td id=\"T_fff31_row7_col7\" class=\"data row7 col7\" >81.316421</td>\n",
       "      <td id=\"T_fff31_row7_col8\" class=\"data row7 col8\" >53.513884</td>\n",
       "    </tr>\n",
       "    <tr>\n",
       "      <th id=\"T_fff31_level0_row8\" class=\"row_heading level0 row8\" >Johnson High School</th>\n",
       "      <td id=\"T_fff31_row8_col0\" class=\"data row8 col0\" >District</td>\n",
       "      <td id=\"T_fff31_row8_col1\" class=\"data row8 col1\" >4761</td>\n",
       "      <td id=\"T_fff31_row8_col2\" class=\"data row8 col2\" >$3,094,650.00</td>\n",
       "      <td id=\"T_fff31_row8_col3\" class=\"data row8 col3\" >$650.00</td>\n",
       "      <td id=\"T_fff31_row8_col4\" class=\"data row8 col4\" >77.072464</td>\n",
       "      <td id=\"T_fff31_row8_col5\" class=\"data row8 col5\" >80.966394</td>\n",
       "      <td id=\"T_fff31_row8_col6\" class=\"data row8 col6\" >66.057551</td>\n",
       "      <td id=\"T_fff31_row8_col7\" class=\"data row8 col7\" >81.222432</td>\n",
       "      <td id=\"T_fff31_row8_col8\" class=\"data row8 col8\" >53.539172</td>\n",
       "    </tr>\n",
       "    <tr>\n",
       "      <th id=\"T_fff31_level0_row9\" class=\"row_heading level0 row9\" >Pena High School</th>\n",
       "      <td id=\"T_fff31_row9_col0\" class=\"data row9 col0\" >Charter</td>\n",
       "      <td id=\"T_fff31_row9_col1\" class=\"data row9 col1\" >962</td>\n",
       "      <td id=\"T_fff31_row9_col2\" class=\"data row9 col2\" >$585,858.00</td>\n",
       "      <td id=\"T_fff31_row9_col3\" class=\"data row9 col3\" >$609.00</td>\n",
       "      <td id=\"T_fff31_row9_col4\" class=\"data row9 col4\" >83.839917</td>\n",
       "      <td id=\"T_fff31_row9_col5\" class=\"data row9 col5\" >84.044699</td>\n",
       "      <td id=\"T_fff31_row9_col6\" class=\"data row9 col6\" >94.594595</td>\n",
       "      <td id=\"T_fff31_row9_col7\" class=\"data row9 col7\" >95.945946</td>\n",
       "      <td id=\"T_fff31_row9_col8\" class=\"data row9 col8\" >90.540541</td>\n",
       "    </tr>\n",
       "    <tr>\n",
       "      <th id=\"T_fff31_level0_row10\" class=\"row_heading level0 row10\" >Rodriguez High School</th>\n",
       "      <td id=\"T_fff31_row10_col0\" class=\"data row10 col0\" >District</td>\n",
       "      <td id=\"T_fff31_row10_col1\" class=\"data row10 col1\" >3999</td>\n",
       "      <td id=\"T_fff31_row10_col2\" class=\"data row10 col2\" >$2,547,363.00</td>\n",
       "      <td id=\"T_fff31_row10_col3\" class=\"data row10 col3\" >$637.00</td>\n",
       "      <td id=\"T_fff31_row10_col4\" class=\"data row10 col4\" >76.842711</td>\n",
       "      <td id=\"T_fff31_row10_col5\" class=\"data row10 col5\" >80.744686</td>\n",
       "      <td id=\"T_fff31_row10_col6\" class=\"data row10 col6\" >66.366592</td>\n",
       "      <td id=\"T_fff31_row10_col7\" class=\"data row10 col7\" >80.220055</td>\n",
       "      <td id=\"T_fff31_row10_col8\" class=\"data row10 col8\" >52.988247</td>\n",
       "    </tr>\n",
       "    <tr>\n",
       "      <th id=\"T_fff31_level0_row11\" class=\"row_heading level0 row11\" >Shelton High School</th>\n",
       "      <td id=\"T_fff31_row11_col0\" class=\"data row11 col0\" >Charter</td>\n",
       "      <td id=\"T_fff31_row11_col1\" class=\"data row11 col1\" >1761</td>\n",
       "      <td id=\"T_fff31_row11_col2\" class=\"data row11 col2\" >$1,056,600.00</td>\n",
       "      <td id=\"T_fff31_row11_col3\" class=\"data row11 col3\" >$600.00</td>\n",
       "      <td id=\"T_fff31_row11_col4\" class=\"data row11 col4\" >83.359455</td>\n",
       "      <td id=\"T_fff31_row11_col5\" class=\"data row11 col5\" >83.725724</td>\n",
       "      <td id=\"T_fff31_row11_col6\" class=\"data row11 col6\" >93.867121</td>\n",
       "      <td id=\"T_fff31_row11_col7\" class=\"data row11 col7\" >95.854628</td>\n",
       "      <td id=\"T_fff31_row11_col8\" class=\"data row11 col8\" >89.892107</td>\n",
       "    </tr>\n",
       "    <tr>\n",
       "      <th id=\"T_fff31_level0_row12\" class=\"row_heading level0 row12\" >Thomas High School</th>\n",
       "      <td id=\"T_fff31_row12_col0\" class=\"data row12 col0\" >Charter</td>\n",
       "      <td id=\"T_fff31_row12_col1\" class=\"data row12 col1\" >1635</td>\n",
       "      <td id=\"T_fff31_row12_col2\" class=\"data row12 col2\" >$1,043,130.00</td>\n",
       "      <td id=\"T_fff31_row12_col3\" class=\"data row12 col3\" >$638.00</td>\n",
       "      <td id=\"T_fff31_row12_col4\" class=\"data row12 col4\" >83.418349</td>\n",
       "      <td id=\"T_fff31_row12_col5\" class=\"data row12 col5\" >83.848930</td>\n",
       "      <td id=\"T_fff31_row12_col6\" class=\"data row12 col6\" >93.272171</td>\n",
       "      <td id=\"T_fff31_row12_col7\" class=\"data row12 col7\" >97.308869</td>\n",
       "      <td id=\"T_fff31_row12_col8\" class=\"data row12 col8\" >90.948012</td>\n",
       "    </tr>\n",
       "    <tr>\n",
       "      <th id=\"T_fff31_level0_row13\" class=\"row_heading level0 row13\" >Wilson High School</th>\n",
       "      <td id=\"T_fff31_row13_col0\" class=\"data row13 col0\" >Charter</td>\n",
       "      <td id=\"T_fff31_row13_col1\" class=\"data row13 col1\" >2283</td>\n",
       "      <td id=\"T_fff31_row13_col2\" class=\"data row13 col2\" >$1,319,574.00</td>\n",
       "      <td id=\"T_fff31_row13_col3\" class=\"data row13 col3\" >$578.00</td>\n",
       "      <td id=\"T_fff31_row13_col4\" class=\"data row13 col4\" >83.274201</td>\n",
       "      <td id=\"T_fff31_row13_col5\" class=\"data row13 col5\" >83.989488</td>\n",
       "      <td id=\"T_fff31_row13_col6\" class=\"data row13 col6\" >93.867718</td>\n",
       "      <td id=\"T_fff31_row13_col7\" class=\"data row13 col7\" >96.539641</td>\n",
       "      <td id=\"T_fff31_row13_col8\" class=\"data row13 col8\" >90.582567</td>\n",
       "    </tr>\n",
       "    <tr>\n",
       "      <th id=\"T_fff31_level0_row14\" class=\"row_heading level0 row14\" >Wright High School</th>\n",
       "      <td id=\"T_fff31_row14_col0\" class=\"data row14 col0\" >Charter</td>\n",
       "      <td id=\"T_fff31_row14_col1\" class=\"data row14 col1\" >1800</td>\n",
       "      <td id=\"T_fff31_row14_col2\" class=\"data row14 col2\" >$1,049,400.00</td>\n",
       "      <td id=\"T_fff31_row14_col3\" class=\"data row14 col3\" >$583.00</td>\n",
       "      <td id=\"T_fff31_row14_col4\" class=\"data row14 col4\" >83.682222</td>\n",
       "      <td id=\"T_fff31_row14_col5\" class=\"data row14 col5\" >83.955000</td>\n",
       "      <td id=\"T_fff31_row14_col6\" class=\"data row14 col6\" >93.333333</td>\n",
       "      <td id=\"T_fff31_row14_col7\" class=\"data row14 col7\" >96.611111</td>\n",
       "      <td id=\"T_fff31_row14_col8\" class=\"data row14 col8\" >90.333333</td>\n",
       "    </tr>\n",
       "  </tbody>\n",
       "</table>\n"
      ],
      "text/plain": [
       "<pandas.io.formats.style.Styler at 0x2dba10c2070>"
      ]
     },
     "execution_count": 74,
     "metadata": {},
     "output_type": "execute_result"
    }
   ],
   "source": [
    "school_summary = pd.DataFrame({\n",
    "    \"School Type\": school_type,\n",
    "    \"Total Students\": total_student,\n",
    "    \"Per Student Budget\": budget_per_student,\n",
    "    \"Total School Budget\": total_school_budget,\n",
    "    \"Average Math Score\": average_math_score,\n",
    "    \"Average Reading Score\": average_reading_score,\n",
    "    '% Passing Math': pass_math_percent,\n",
    "    '% Passing Reading': pass_read_percent,\n",
    "    \"% Overall Passing\": overall_pass\n",
    "})#munging\n",
    "school_summary = school_summary[['School Type', \n",
    "                          'Total Students', \n",
    "                          'Total School Budget', \n",
    "                          'Per Student Budget', \n",
    "                          'Average Math Score', \n",
    "                          'Average Reading Score',\n",
    "                          '% Passing Math',\n",
    "                          '% Passing Reading',\n",
    "                          '% Overall Passing']]\n",
    "\n",
    "\n",
    "#formatting\n",
    "school_summary.style.format({'Total Students': '{:}',\n",
    "                          \"Total School Budget\": \"${:,.2f}\",\n",
    "                          \"Per Student Budget\": \"${:.2f}\",\n",
    "                          'Average Math Score': \"{:6f}\", \n",
    "                          'Average Reading Score': \"{:6f}\", \n",
    "                          \"% Passing Math\": \"{:6f}\", \n",
    "                          \"% Passing Reading\": \"{:6f}\"})\n"
   ]
  },
  {
   "cell_type": "markdown",
   "metadata": {},
   "source": [
    "### Top Performing Schools (By Passing Rate)"
   ]
  },
  {
   "cell_type": "markdown",
   "metadata": {},
   "source": [
    "* Sort and display the top five schools in overall passing rate"
   ]
  },
  {
   "cell_type": "code",
   "execution_count": 75,
   "metadata": {},
   "outputs": [
    {
     "data": {
      "text/html": [
       "<style type=\"text/css\">\n",
       "</style>\n",
       "<table id=\"T_2d859\">\n",
       "  <thead>\n",
       "    <tr>\n",
       "      <th class=\"blank level0\" >&nbsp;</th>\n",
       "      <th id=\"T_2d859_level0_col0\" class=\"col_heading level0 col0\" >School Type</th>\n",
       "      <th id=\"T_2d859_level0_col1\" class=\"col_heading level0 col1\" >Total Students</th>\n",
       "      <th id=\"T_2d859_level0_col2\" class=\"col_heading level0 col2\" >Total School Budget</th>\n",
       "      <th id=\"T_2d859_level0_col3\" class=\"col_heading level0 col3\" >Per Student Budget</th>\n",
       "      <th id=\"T_2d859_level0_col4\" class=\"col_heading level0 col4\" >Average Math Score</th>\n",
       "      <th id=\"T_2d859_level0_col5\" class=\"col_heading level0 col5\" >Average Reading Score</th>\n",
       "      <th id=\"T_2d859_level0_col6\" class=\"col_heading level0 col6\" >% Passing Math</th>\n",
       "      <th id=\"T_2d859_level0_col7\" class=\"col_heading level0 col7\" >% Passing Reading</th>\n",
       "      <th id=\"T_2d859_level0_col8\" class=\"col_heading level0 col8\" >% Overall Passing</th>\n",
       "    </tr>\n",
       "    <tr>\n",
       "      <th class=\"index_name level0\" >school_name</th>\n",
       "      <th class=\"blank col0\" >&nbsp;</th>\n",
       "      <th class=\"blank col1\" >&nbsp;</th>\n",
       "      <th class=\"blank col2\" >&nbsp;</th>\n",
       "      <th class=\"blank col3\" >&nbsp;</th>\n",
       "      <th class=\"blank col4\" >&nbsp;</th>\n",
       "      <th class=\"blank col5\" >&nbsp;</th>\n",
       "      <th class=\"blank col6\" >&nbsp;</th>\n",
       "      <th class=\"blank col7\" >&nbsp;</th>\n",
       "      <th class=\"blank col8\" >&nbsp;</th>\n",
       "    </tr>\n",
       "  </thead>\n",
       "  <tbody>\n",
       "    <tr>\n",
       "      <th id=\"T_2d859_level0_row0\" class=\"row_heading level0 row0\" >Cabrera High School</th>\n",
       "      <td id=\"T_2d859_row0_col0\" class=\"data row0 col0\" >Charter</td>\n",
       "      <td id=\"T_2d859_row0_col1\" class=\"data row0 col1\" >1858</td>\n",
       "      <td id=\"T_2d859_row0_col2\" class=\"data row0 col2\" >$1,081,356.00</td>\n",
       "      <td id=\"T_2d859_row0_col3\" class=\"data row0 col3\" >$582.00</td>\n",
       "      <td id=\"T_2d859_row0_col4\" class=\"data row0 col4\" >83.061895</td>\n",
       "      <td id=\"T_2d859_row0_col5\" class=\"data row0 col5\" >83.975780</td>\n",
       "      <td id=\"T_2d859_row0_col6\" class=\"data row0 col6\" >94.133477</td>\n",
       "      <td id=\"T_2d859_row0_col7\" class=\"data row0 col7\" >97.039828</td>\n",
       "      <td id=\"T_2d859_row0_col8\" class=\"data row0 col8\" >91.334769</td>\n",
       "    </tr>\n",
       "    <tr>\n",
       "      <th id=\"T_2d859_level0_row1\" class=\"row_heading level0 row1\" >Thomas High School</th>\n",
       "      <td id=\"T_2d859_row1_col0\" class=\"data row1 col0\" >Charter</td>\n",
       "      <td id=\"T_2d859_row1_col1\" class=\"data row1 col1\" >1635</td>\n",
       "      <td id=\"T_2d859_row1_col2\" class=\"data row1 col2\" >$1,043,130.00</td>\n",
       "      <td id=\"T_2d859_row1_col3\" class=\"data row1 col3\" >$638.00</td>\n",
       "      <td id=\"T_2d859_row1_col4\" class=\"data row1 col4\" >83.418349</td>\n",
       "      <td id=\"T_2d859_row1_col5\" class=\"data row1 col5\" >83.848930</td>\n",
       "      <td id=\"T_2d859_row1_col6\" class=\"data row1 col6\" >93.272171</td>\n",
       "      <td id=\"T_2d859_row1_col7\" class=\"data row1 col7\" >97.308869</td>\n",
       "      <td id=\"T_2d859_row1_col8\" class=\"data row1 col8\" >90.948012</td>\n",
       "    </tr>\n",
       "    <tr>\n",
       "      <th id=\"T_2d859_level0_row2\" class=\"row_heading level0 row2\" >Griffin High School</th>\n",
       "      <td id=\"T_2d859_row2_col0\" class=\"data row2 col0\" >Charter</td>\n",
       "      <td id=\"T_2d859_row2_col1\" class=\"data row2 col1\" >1468</td>\n",
       "      <td id=\"T_2d859_row2_col2\" class=\"data row2 col2\" >$917,500.00</td>\n",
       "      <td id=\"T_2d859_row2_col3\" class=\"data row2 col3\" >$625.00</td>\n",
       "      <td id=\"T_2d859_row2_col4\" class=\"data row2 col4\" >83.351499</td>\n",
       "      <td id=\"T_2d859_row2_col5\" class=\"data row2 col5\" >83.816757</td>\n",
       "      <td id=\"T_2d859_row2_col6\" class=\"data row2 col6\" >93.392371</td>\n",
       "      <td id=\"T_2d859_row2_col7\" class=\"data row2 col7\" >97.138965</td>\n",
       "      <td id=\"T_2d859_row2_col8\" class=\"data row2 col8\" >90.599455</td>\n",
       "    </tr>\n",
       "    <tr>\n",
       "      <th id=\"T_2d859_level0_row3\" class=\"row_heading level0 row3\" >Wilson High School</th>\n",
       "      <td id=\"T_2d859_row3_col0\" class=\"data row3 col0\" >Charter</td>\n",
       "      <td id=\"T_2d859_row3_col1\" class=\"data row3 col1\" >2283</td>\n",
       "      <td id=\"T_2d859_row3_col2\" class=\"data row3 col2\" >$1,319,574.00</td>\n",
       "      <td id=\"T_2d859_row3_col3\" class=\"data row3 col3\" >$578.00</td>\n",
       "      <td id=\"T_2d859_row3_col4\" class=\"data row3 col4\" >83.274201</td>\n",
       "      <td id=\"T_2d859_row3_col5\" class=\"data row3 col5\" >83.989488</td>\n",
       "      <td id=\"T_2d859_row3_col6\" class=\"data row3 col6\" >93.867718</td>\n",
       "      <td id=\"T_2d859_row3_col7\" class=\"data row3 col7\" >96.539641</td>\n",
       "      <td id=\"T_2d859_row3_col8\" class=\"data row3 col8\" >90.582567</td>\n",
       "    </tr>\n",
       "    <tr>\n",
       "      <th id=\"T_2d859_level0_row4\" class=\"row_heading level0 row4\" >Pena High School</th>\n",
       "      <td id=\"T_2d859_row4_col0\" class=\"data row4 col0\" >Charter</td>\n",
       "      <td id=\"T_2d859_row4_col1\" class=\"data row4 col1\" >962</td>\n",
       "      <td id=\"T_2d859_row4_col2\" class=\"data row4 col2\" >$585,858.00</td>\n",
       "      <td id=\"T_2d859_row4_col3\" class=\"data row4 col3\" >$609.00</td>\n",
       "      <td id=\"T_2d859_row4_col4\" class=\"data row4 col4\" >83.839917</td>\n",
       "      <td id=\"T_2d859_row4_col5\" class=\"data row4 col5\" >84.044699</td>\n",
       "      <td id=\"T_2d859_row4_col6\" class=\"data row4 col6\" >94.594595</td>\n",
       "      <td id=\"T_2d859_row4_col7\" class=\"data row4 col7\" >95.945946</td>\n",
       "      <td id=\"T_2d859_row4_col8\" class=\"data row4 col8\" >90.540541</td>\n",
       "    </tr>\n",
       "  </tbody>\n",
       "</table>\n"
      ],
      "text/plain": [
       "<pandas.io.formats.style.Styler at 0x2dba10c28e0>"
      ]
     },
     "execution_count": 75,
     "metadata": {},
     "output_type": "execute_result"
    }
   ],
   "source": [
    "top_perform = school_summary.sort_values(\"% Overall Passing\", ascending = False)\n",
    "top_perform.head().style.format({'Total Students': '{:}',\n",
    "                           \"Total School Budget\": \"${:,.2f}\", \n",
    "                           \"Per Student Budget\": \"${:.2f}\", \n",
    "                           \"% Passing Math\": \"{:6f}\", \n",
    "                           \"% Passing Reading\": \"{:6f}\", \n",
    "                           \"% Overall Passing\": \"{:6f}\"})"
   ]
  },
  {
   "cell_type": "code",
   "execution_count": 30,
   "metadata": {
    "scrolled": true
   },
   "outputs": [
    {
     "data": {
      "text/plain": [
       "school_name\n",
       "Huang High School        1910635\n",
       "Figueroa High School     1884411\n",
       "Shelton High School      1056600\n",
       "Hernandez High School    3022020\n",
       "Griffin High School       917500\n",
       "Wilson High School       1319574\n",
       "Cabrera High School      1081356\n",
       "Bailey High School       3124928\n",
       "Holden High School        248087\n",
       "Pena High School          585858\n",
       "Wright High School       1049400\n",
       "Rodriguez High School    2547363\n",
       "Johnson High School      3094650\n",
       "Ford High School         1763916\n",
       "Thomas High School       1043130\n",
       "Name: budget, dtype: int64"
      ]
     },
     "execution_count": 30,
     "metadata": {},
     "output_type": "execute_result"
    }
   ],
   "source": [
    "# Calculate total school budget\n",
    "\n",
    "total_school_budget = school_data.set_index('school_name')['budget']\n",
    "total_school_budg"
   ]
  },
  {
   "cell_type": "code",
   "execution_count": 64,
   "metadata": {},
   "outputs": [],
   "source": [
    "# Calculate per student budget\n",
    "budget_per_student = (school_data.set_index('school_name')['budget']/school_data.set_index('school_name')['size'])\n"
   ]
  },
  {
   "cell_type": "code",
   "execution_count": 77,
   "metadata": {},
   "outputs": [],
   "source": [
    "# Cacluate the avg math and reading score\n",
    "\n"
   ]
  },
  {
   "cell_type": "markdown",
   "metadata": {},
   "source": [
    "#### Find the passing rate for math and reading (above 70 points)"
   ]
  },
  {
   "cell_type": "code",
   "execution_count": 90,
   "metadata": {},
   "outputs": [],
   "source": [
    "# Find the total counts of math result\n",
    "\n",
    "\n",
    "# Find the counts for math result in each school that pass 70 or higher\n",
    "\n",
    "\n",
    "# Calculate the math passing rate\n"
   ]
  },
  {
   "cell_type": "code",
   "execution_count": 91,
   "metadata": {},
   "outputs": [],
   "source": [
    "# Find the total counts of read result\n",
    "\n",
    "\n",
    "# Find the counts for read result in each school that pass 70 or higher\n",
    "\n",
    "\n",
    "# Calculate the read passing rate\n"
   ]
  },
  {
   "cell_type": "code",
   "execution_count": 85,
   "metadata": {},
   "outputs": [],
   "source": [
    "# Calculate the overall passing rate (average of the math and reading passing rate)\n"
   ]
  },
  {
   "cell_type": "code",
   "execution_count": null,
   "metadata": {},
   "outputs": [],
   "source": []
  },
  {
   "cell_type": "code",
   "execution_count": null,
   "metadata": {},
   "outputs": [],
   "source": []
  },
  {
   "cell_type": "code",
   "execution_count": null,
   "metadata": {},
   "outputs": [],
   "source": []
  },
  {
   "cell_type": "markdown",
   "metadata": {},
   "source": [
    "### Bottom Performing Schools (By Passing Rate)"
   ]
  },
  {
   "cell_type": "markdown",
   "metadata": {},
   "source": [
    "* Sort and display the five worst-performing schools"
   ]
  },
  {
   "cell_type": "code",
   "execution_count": 88,
   "metadata": {},
   "outputs": [
    {
     "data": {
      "text/html": [
       "<style type=\"text/css\">\n",
       "</style>\n",
       "<table id=\"T_88037\">\n",
       "  <thead>\n",
       "    <tr>\n",
       "      <th class=\"blank level0\" >&nbsp;</th>\n",
       "      <th id=\"T_88037_level0_col0\" class=\"col_heading level0 col0\" >School Type</th>\n",
       "      <th id=\"T_88037_level0_col1\" class=\"col_heading level0 col1\" >Total Students</th>\n",
       "      <th id=\"T_88037_level0_col2\" class=\"col_heading level0 col2\" >Total School Budget</th>\n",
       "      <th id=\"T_88037_level0_col3\" class=\"col_heading level0 col3\" >Per Student Budget</th>\n",
       "      <th id=\"T_88037_level0_col4\" class=\"col_heading level0 col4\" >Average Math Score</th>\n",
       "      <th id=\"T_88037_level0_col5\" class=\"col_heading level0 col5\" >Average Reading Score</th>\n",
       "      <th id=\"T_88037_level0_col6\" class=\"col_heading level0 col6\" >% Passing Math</th>\n",
       "      <th id=\"T_88037_level0_col7\" class=\"col_heading level0 col7\" >% Passing Reading</th>\n",
       "      <th id=\"T_88037_level0_col8\" class=\"col_heading level0 col8\" >% Overall Passing</th>\n",
       "    </tr>\n",
       "    <tr>\n",
       "      <th class=\"index_name level0\" >school_name</th>\n",
       "      <th class=\"blank col0\" >&nbsp;</th>\n",
       "      <th class=\"blank col1\" >&nbsp;</th>\n",
       "      <th class=\"blank col2\" >&nbsp;</th>\n",
       "      <th class=\"blank col3\" >&nbsp;</th>\n",
       "      <th class=\"blank col4\" >&nbsp;</th>\n",
       "      <th class=\"blank col5\" >&nbsp;</th>\n",
       "      <th class=\"blank col6\" >&nbsp;</th>\n",
       "      <th class=\"blank col7\" >&nbsp;</th>\n",
       "      <th class=\"blank col8\" >&nbsp;</th>\n",
       "    </tr>\n",
       "  </thead>\n",
       "  <tbody>\n",
       "    <tr>\n",
       "      <th id=\"T_88037_level0_row0\" class=\"row_heading level0 row0\" >Rodriguez High School</th>\n",
       "      <td id=\"T_88037_row0_col0\" class=\"data row0 col0\" >District</td>\n",
       "      <td id=\"T_88037_row0_col1\" class=\"data row0 col1\" > 3999</td>\n",
       "      <td id=\"T_88037_row0_col2\" class=\"data row0 col2\" >$2,547,363.00</td>\n",
       "      <td id=\"T_88037_row0_col3\" class=\"data row0 col3\" >$637.00</td>\n",
       "      <td id=\"T_88037_row0_col4\" class=\"data row0 col4\" >76.842711</td>\n",
       "      <td id=\"T_88037_row0_col5\" class=\"data row0 col5\" >80.744686</td>\n",
       "      <td id=\"T_88037_row0_col6\" class=\"data row0 col6\" >66.366592</td>\n",
       "      <td id=\"T_88037_row0_col7\" class=\"data row0 col7\" >80.220055</td>\n",
       "      <td id=\"T_88037_row0_col8\" class=\"data row0 col8\" >52.988247</td>\n",
       "    </tr>\n",
       "    <tr>\n",
       "      <th id=\"T_88037_level0_row1\" class=\"row_heading level0 row1\" >Figueroa High School</th>\n",
       "      <td id=\"T_88037_row1_col0\" class=\"data row1 col0\" >District</td>\n",
       "      <td id=\"T_88037_row1_col1\" class=\"data row1 col1\" > 2949</td>\n",
       "      <td id=\"T_88037_row1_col2\" class=\"data row1 col2\" >$1,884,411.00</td>\n",
       "      <td id=\"T_88037_row1_col3\" class=\"data row1 col3\" >$639.00</td>\n",
       "      <td id=\"T_88037_row1_col4\" class=\"data row1 col4\" >76.711767</td>\n",
       "      <td id=\"T_88037_row1_col5\" class=\"data row1 col5\" >81.158020</td>\n",
       "      <td id=\"T_88037_row1_col6\" class=\"data row1 col6\" >65.988471</td>\n",
       "      <td id=\"T_88037_row1_col7\" class=\"data row1 col7\" >80.739234</td>\n",
       "      <td id=\"T_88037_row1_col8\" class=\"data row1 col8\" >53.204476</td>\n",
       "    </tr>\n",
       "    <tr>\n",
       "      <th id=\"T_88037_level0_row2\" class=\"row_heading level0 row2\" >Huang High School</th>\n",
       "      <td id=\"T_88037_row2_col0\" class=\"data row2 col0\" >District</td>\n",
       "      <td id=\"T_88037_row2_col1\" class=\"data row2 col1\" > 2917</td>\n",
       "      <td id=\"T_88037_row2_col2\" class=\"data row2 col2\" >$1,910,635.00</td>\n",
       "      <td id=\"T_88037_row2_col3\" class=\"data row2 col3\" >$655.00</td>\n",
       "      <td id=\"T_88037_row2_col4\" class=\"data row2 col4\" >76.629414</td>\n",
       "      <td id=\"T_88037_row2_col5\" class=\"data row2 col5\" >81.182722</td>\n",
       "      <td id=\"T_88037_row2_col6\" class=\"data row2 col6\" >65.683922</td>\n",
       "      <td id=\"T_88037_row2_col7\" class=\"data row2 col7\" >81.316421</td>\n",
       "      <td id=\"T_88037_row2_col8\" class=\"data row2 col8\" >53.513884</td>\n",
       "    </tr>\n",
       "    <tr>\n",
       "      <th id=\"T_88037_level0_row3\" class=\"row_heading level0 row3\" >Hernandez High School</th>\n",
       "      <td id=\"T_88037_row3_col0\" class=\"data row3 col0\" >District</td>\n",
       "      <td id=\"T_88037_row3_col1\" class=\"data row3 col1\" > 4635</td>\n",
       "      <td id=\"T_88037_row3_col2\" class=\"data row3 col2\" >$3,022,020.00</td>\n",
       "      <td id=\"T_88037_row3_col3\" class=\"data row3 col3\" >$652.00</td>\n",
       "      <td id=\"T_88037_row3_col4\" class=\"data row3 col4\" >77.289752</td>\n",
       "      <td id=\"T_88037_row3_col5\" class=\"data row3 col5\" >80.934412</td>\n",
       "      <td id=\"T_88037_row3_col6\" class=\"data row3 col6\" >66.752967</td>\n",
       "      <td id=\"T_88037_row3_col7\" class=\"data row3 col7\" >80.862999</td>\n",
       "      <td id=\"T_88037_row3_col8\" class=\"data row3 col8\" >53.527508</td>\n",
       "    </tr>\n",
       "    <tr>\n",
       "      <th id=\"T_88037_level0_row4\" class=\"row_heading level0 row4\" >Johnson High School</th>\n",
       "      <td id=\"T_88037_row4_col0\" class=\"data row4 col0\" >District</td>\n",
       "      <td id=\"T_88037_row4_col1\" class=\"data row4 col1\" > 4761</td>\n",
       "      <td id=\"T_88037_row4_col2\" class=\"data row4 col2\" >$3,094,650.00</td>\n",
       "      <td id=\"T_88037_row4_col3\" class=\"data row4 col3\" >$650.00</td>\n",
       "      <td id=\"T_88037_row4_col4\" class=\"data row4 col4\" >77.072464</td>\n",
       "      <td id=\"T_88037_row4_col5\" class=\"data row4 col5\" >80.966394</td>\n",
       "      <td id=\"T_88037_row4_col6\" class=\"data row4 col6\" >66.057551</td>\n",
       "      <td id=\"T_88037_row4_col7\" class=\"data row4 col7\" >81.222432</td>\n",
       "      <td id=\"T_88037_row4_col8\" class=\"data row4 col8\" >53.539172</td>\n",
       "    </tr>\n",
       "  </tbody>\n",
       "</table>\n"
      ],
      "text/plain": [
       "<pandas.io.formats.style.Styler at 0x2dba10800a0>"
      ]
     },
     "execution_count": 88,
     "metadata": {},
     "output_type": "execute_result"
    }
   ],
   "source": [
    "#  Sort and display the worst five schools in overall passing rate\n",
    "\n",
    "bottom_perform = top_perform.tail()\n",
    "bottom_perform = bottom_perform.sort_values('% Overall Passing')\n",
    "bottom_perform.style.format({'Total Students': '{: }', \n",
    "                       \"Total School Budget\": \"${:,.2f}\", \n",
    "                       \"Per Student Budget\": \"${:.2f}\", \n",
    "                       \"% Passing Math\": \"{:6f}\", \n",
    "                       \"% Passing Reading\": \"{:6f}\", \n",
    "                       \"% Overall Passing\": \"{:6f}\"})"
   ]
  },
  {
   "cell_type": "markdown",
   "metadata": {
    "collapsed": true
   },
   "source": [
    "## Math Scores by Grade"
   ]
  },
  {
   "cell_type": "markdown",
   "metadata": {},
   "source": [
    "* Create a table that lists the average Reading Score for students of each grade level (9th, 10th, 11th, 12th) at each school.\n",
    "\n",
    "  * Create a pandas series for each grade. Hint: use a conditional statement.\n",
    "  \n",
    "  * Group each series by school\n",
    "  \n",
    "  * Combine the series into a dataframe\n",
    "  \n",
    "  * Optional: give the displayed data cleaner formatting"
   ]
  },
  {
   "cell_type": "code",
   "execution_count": 94,
   "metadata": {},
   "outputs": [
    {
     "data": {
      "text/html": [
       "<style type=\"text/css\">\n",
       "</style>\n",
       "<table id=\"T_c458b\">\n",
       "  <thead>\n",
       "    <tr>\n",
       "      <th class=\"blank level0\" >&nbsp;</th>\n",
       "      <th id=\"T_c458b_level0_col0\" class=\"col_heading level0 col0\" >9th</th>\n",
       "      <th id=\"T_c458b_level0_col1\" class=\"col_heading level0 col1\" >10th</th>\n",
       "      <th id=\"T_c458b_level0_col2\" class=\"col_heading level0 col2\" >11th</th>\n",
       "      <th id=\"T_c458b_level0_col3\" class=\"col_heading level0 col3\" >12th</th>\n",
       "    </tr>\n",
       "    <tr>\n",
       "      <th class=\"index_name level0\" >School Name</th>\n",
       "      <th class=\"blank col0\" >&nbsp;</th>\n",
       "      <th class=\"blank col1\" >&nbsp;</th>\n",
       "      <th class=\"blank col2\" >&nbsp;</th>\n",
       "      <th class=\"blank col3\" >&nbsp;</th>\n",
       "    </tr>\n",
       "  </thead>\n",
       "  <tbody>\n",
       "    <tr>\n",
       "      <th id=\"T_c458b_level0_row0\" class=\"row_heading level0 row0\" >Bailey High School</th>\n",
       "      <td id=\"T_c458b_row0_col0\" class=\"data row0 col0\" >77.083676</td>\n",
       "      <td id=\"T_c458b_row0_col1\" class=\"data row0 col1\" >76.996772</td>\n",
       "      <td id=\"T_c458b_row0_col2\" class=\"data row0 col2\" >77.515588</td>\n",
       "      <td id=\"T_c458b_row0_col3\" class=\"data row0 col3\" >76.492218</td>\n",
       "    </tr>\n",
       "    <tr>\n",
       "      <th id=\"T_c458b_level0_row1\" class=\"row_heading level0 row1\" >Cabrera High School</th>\n",
       "      <td id=\"T_c458b_row1_col0\" class=\"data row1 col0\" >83.094697</td>\n",
       "      <td id=\"T_c458b_row1_col1\" class=\"data row1 col1\" >83.154506</td>\n",
       "      <td id=\"T_c458b_row1_col2\" class=\"data row1 col2\" >82.765560</td>\n",
       "      <td id=\"T_c458b_row1_col3\" class=\"data row1 col3\" >83.277487</td>\n",
       "    </tr>\n",
       "    <tr>\n",
       "      <th id=\"T_c458b_level0_row2\" class=\"row_heading level0 row2\" >Figueroa High School</th>\n",
       "      <td id=\"T_c458b_row2_col0\" class=\"data row2 col0\" >76.403037</td>\n",
       "      <td id=\"T_c458b_row2_col1\" class=\"data row2 col1\" >76.539974</td>\n",
       "      <td id=\"T_c458b_row2_col2\" class=\"data row2 col2\" >76.884344</td>\n",
       "      <td id=\"T_c458b_row2_col3\" class=\"data row2 col3\" >77.151369</td>\n",
       "    </tr>\n",
       "    <tr>\n",
       "      <th id=\"T_c458b_level0_row3\" class=\"row_heading level0 row3\" >Ford High School</th>\n",
       "      <td id=\"T_c458b_row3_col0\" class=\"data row3 col0\" >77.361345</td>\n",
       "      <td id=\"T_c458b_row3_col1\" class=\"data row3 col1\" >77.672316</td>\n",
       "      <td id=\"T_c458b_row3_col2\" class=\"data row3 col2\" >76.918058</td>\n",
       "      <td id=\"T_c458b_row3_col3\" class=\"data row3 col3\" >76.179963</td>\n",
       "    </tr>\n",
       "    <tr>\n",
       "      <th id=\"T_c458b_level0_row4\" class=\"row_heading level0 row4\" >Griffin High School</th>\n",
       "      <td id=\"T_c458b_row4_col0\" class=\"data row4 col0\" >82.044010</td>\n",
       "      <td id=\"T_c458b_row4_col1\" class=\"data row4 col1\" >84.229064</td>\n",
       "      <td id=\"T_c458b_row4_col2\" class=\"data row4 col2\" >83.842105</td>\n",
       "      <td id=\"T_c458b_row4_col3\" class=\"data row4 col3\" >83.356164</td>\n",
       "    </tr>\n",
       "    <tr>\n",
       "      <th id=\"T_c458b_level0_row5\" class=\"row_heading level0 row5\" >Hernandez High School</th>\n",
       "      <td id=\"T_c458b_row5_col0\" class=\"data row5 col0\" >77.438495</td>\n",
       "      <td id=\"T_c458b_row5_col1\" class=\"data row5 col1\" >77.337408</td>\n",
       "      <td id=\"T_c458b_row5_col2\" class=\"data row5 col2\" >77.136029</td>\n",
       "      <td id=\"T_c458b_row5_col3\" class=\"data row5 col3\" >77.186567</td>\n",
       "    </tr>\n",
       "    <tr>\n",
       "      <th id=\"T_c458b_level0_row6\" class=\"row_heading level0 row6\" >Holden High School</th>\n",
       "      <td id=\"T_c458b_row6_col0\" class=\"data row6 col0\" >83.787402</td>\n",
       "      <td id=\"T_c458b_row6_col1\" class=\"data row6 col1\" >83.429825</td>\n",
       "      <td id=\"T_c458b_row6_col2\" class=\"data row6 col2\" >85.000000</td>\n",
       "      <td id=\"T_c458b_row6_col3\" class=\"data row6 col3\" >82.855422</td>\n",
       "    </tr>\n",
       "    <tr>\n",
       "      <th id=\"T_c458b_level0_row7\" class=\"row_heading level0 row7\" >Huang High School</th>\n",
       "      <td id=\"T_c458b_row7_col0\" class=\"data row7 col0\" >77.027251</td>\n",
       "      <td id=\"T_c458b_row7_col1\" class=\"data row7 col1\" >75.908735</td>\n",
       "      <td id=\"T_c458b_row7_col2\" class=\"data row7 col2\" >76.446602</td>\n",
       "      <td id=\"T_c458b_row7_col3\" class=\"data row7 col3\" >77.225641</td>\n",
       "    </tr>\n",
       "    <tr>\n",
       "      <th id=\"T_c458b_level0_row8\" class=\"row_heading level0 row8\" >Johnson High School</th>\n",
       "      <td id=\"T_c458b_row8_col0\" class=\"data row8 col0\" >77.187857</td>\n",
       "      <td id=\"T_c458b_row8_col1\" class=\"data row8 col1\" >76.691117</td>\n",
       "      <td id=\"T_c458b_row8_col2\" class=\"data row8 col2\" >77.491653</td>\n",
       "      <td id=\"T_c458b_row8_col3\" class=\"data row8 col3\" >76.863248</td>\n",
       "    </tr>\n",
       "    <tr>\n",
       "      <th id=\"T_c458b_level0_row9\" class=\"row_heading level0 row9\" >Pena High School</th>\n",
       "      <td id=\"T_c458b_row9_col0\" class=\"data row9 col0\" >83.625455</td>\n",
       "      <td id=\"T_c458b_row9_col1\" class=\"data row9 col1\" >83.372000</td>\n",
       "      <td id=\"T_c458b_row9_col2\" class=\"data row9 col2\" >84.328125</td>\n",
       "      <td id=\"T_c458b_row9_col3\" class=\"data row9 col3\" >84.121547</td>\n",
       "    </tr>\n",
       "    <tr>\n",
       "      <th id=\"T_c458b_level0_row10\" class=\"row_heading level0 row10\" >Rodriguez High School</th>\n",
       "      <td id=\"T_c458b_row10_col0\" class=\"data row10 col0\" >76.859966</td>\n",
       "      <td id=\"T_c458b_row10_col1\" class=\"data row10 col1\" >76.612500</td>\n",
       "      <td id=\"T_c458b_row10_col2\" class=\"data row10 col2\" >76.395626</td>\n",
       "      <td id=\"T_c458b_row10_col3\" class=\"data row10 col3\" >77.690748</td>\n",
       "    </tr>\n",
       "    <tr>\n",
       "      <th id=\"T_c458b_level0_row11\" class=\"row_heading level0 row11\" >Shelton High School</th>\n",
       "      <td id=\"T_c458b_row11_col0\" class=\"data row11 col0\" >83.420755</td>\n",
       "      <td id=\"T_c458b_row11_col1\" class=\"data row11 col1\" >82.917411</td>\n",
       "      <td id=\"T_c458b_row11_col2\" class=\"data row11 col2\" >83.383495</td>\n",
       "      <td id=\"T_c458b_row11_col3\" class=\"data row11 col3\" >83.778976</td>\n",
       "    </tr>\n",
       "    <tr>\n",
       "      <th id=\"T_c458b_level0_row12\" class=\"row_heading level0 row12\" >Thomas High School</th>\n",
       "      <td id=\"T_c458b_row12_col0\" class=\"data row12 col0\" >83.590022</td>\n",
       "      <td id=\"T_c458b_row12_col1\" class=\"data row12 col1\" >83.087886</td>\n",
       "      <td id=\"T_c458b_row12_col2\" class=\"data row12 col2\" >83.498795</td>\n",
       "      <td id=\"T_c458b_row12_col3\" class=\"data row12 col3\" >83.497041</td>\n",
       "    </tr>\n",
       "    <tr>\n",
       "      <th id=\"T_c458b_level0_row13\" class=\"row_heading level0 row13\" >Wilson High School</th>\n",
       "      <td id=\"T_c458b_row13_col0\" class=\"data row13 col0\" >83.085578</td>\n",
       "      <td id=\"T_c458b_row13_col1\" class=\"data row13 col1\" >83.724422</td>\n",
       "      <td id=\"T_c458b_row13_col2\" class=\"data row13 col2\" >83.195326</td>\n",
       "      <td id=\"T_c458b_row13_col3\" class=\"data row13 col3\" >83.035794</td>\n",
       "    </tr>\n",
       "    <tr>\n",
       "      <th id=\"T_c458b_level0_row14\" class=\"row_heading level0 row14\" >Wright High School</th>\n",
       "      <td id=\"T_c458b_row14_col0\" class=\"data row14 col0\" >83.264706</td>\n",
       "      <td id=\"T_c458b_row14_col1\" class=\"data row14 col1\" >84.010288</td>\n",
       "      <td id=\"T_c458b_row14_col2\" class=\"data row14 col2\" >83.836782</td>\n",
       "      <td id=\"T_c458b_row14_col3\" class=\"data row14 col3\" >83.644986</td>\n",
       "    </tr>\n",
       "  </tbody>\n",
       "</table>\n"
      ],
      "text/plain": [
       "<pandas.io.formats.style.Styler at 0x2db9cbe4b50>"
      ]
     },
     "execution_count": 94,
     "metadata": {},
     "output_type": "execute_result"
    }
   ],
   "source": [
    "# Create table that lists the average math score for each school of each grade level.\n",
    "ninth_math = student_data.loc[student_data['grade'] == '9th'].groupby('school_name')[\"math_score\"].mean()\n",
    "tenth_math = student_data.loc[student_data['grade'] == '10th'].groupby('school_name')[\"math_score\"].mean()\n",
    "eleventh_math = student_data.loc[student_data['grade'] == '11th'].groupby('school_name')[\"math_score\"].mean()\n",
    "twelfth_math = student_data.loc[student_data['grade'] == '12th'].groupby('school_name')[\"math_score\"].mean()\n",
    "\n",
    "math_scores = pd.DataFrame({\n",
    "        \"9th\": ninth_math,\n",
    "        \"10th\": tenth_math,\n",
    "        \"11th\": eleventh_math,\n",
    "        \"12th\": twelfth_math\n",
    "})\n",
    "math_scores = math_scores[['9th', '10th', '11th', '12th']]\n",
    "math_scores.index.name = \"School Name\"\n",
    "\n",
    "#show and format\n",
    "math_scores.style.format({'9th': '{:.6f}', \n",
    "                          \"10th\": '{:.6f}', \n",
    "                          \"11th\": \"{:.6f}\", \n",
    "                          \"12th\": \"{:.6f}\"})"
   ]
  },
  {
   "cell_type": "code",
   "execution_count": 93,
   "metadata": {},
   "outputs": [],
   "source": [
    "# Calculate the average math score for 9th grade in each school\n",
    "\n",
    "# Combine the series into a dataframe\n",
    "\n"
   ]
  },
  {
   "cell_type": "code",
   "execution_count": null,
   "metadata": {},
   "outputs": [],
   "source": [
    "# Calculate the average math score for 10th grade in each school\n",
    "\n",
    "\n"
   ]
  },
  {
   "cell_type": "code",
   "execution_count": null,
   "metadata": {},
   "outputs": [],
   "source": [
    "# Calculate the average math score for 11th grade in each school\n",
    "\n",
    "\n"
   ]
  },
  {
   "cell_type": "code",
   "execution_count": null,
   "metadata": {},
   "outputs": [],
   "source": [
    "# Calculate the average math score for 12th grade in each school\n",
    "\n",
    "\n"
   ]
  },
  {
   "cell_type": "markdown",
   "metadata": {},
   "source": [
    "### Reading Score by Grade "
   ]
  },
  {
   "cell_type": "markdown",
   "metadata": {},
   "source": [
    "* Perform the same operations as above for reading scores"
   ]
  },
  {
   "cell_type": "code",
   "execution_count": 95,
   "metadata": {},
   "outputs": [
    {
     "data": {
      "text/html": [
       "<style type=\"text/css\">\n",
       "</style>\n",
       "<table id=\"T_53a26\">\n",
       "  <thead>\n",
       "    <tr>\n",
       "      <th class=\"blank level0\" >&nbsp;</th>\n",
       "      <th id=\"T_53a26_level0_col0\" class=\"col_heading level0 col0\" >9th</th>\n",
       "      <th id=\"T_53a26_level0_col1\" class=\"col_heading level0 col1\" >10th</th>\n",
       "      <th id=\"T_53a26_level0_col2\" class=\"col_heading level0 col2\" >11th</th>\n",
       "      <th id=\"T_53a26_level0_col3\" class=\"col_heading level0 col3\" >12th</th>\n",
       "    </tr>\n",
       "    <tr>\n",
       "      <th class=\"index_name level0\" >School Name</th>\n",
       "      <th class=\"blank col0\" >&nbsp;</th>\n",
       "      <th class=\"blank col1\" >&nbsp;</th>\n",
       "      <th class=\"blank col2\" >&nbsp;</th>\n",
       "      <th class=\"blank col3\" >&nbsp;</th>\n",
       "    </tr>\n",
       "  </thead>\n",
       "  <tbody>\n",
       "    <tr>\n",
       "      <th id=\"T_53a26_level0_row0\" class=\"row_heading level0 row0\" >Bailey High School</th>\n",
       "      <td id=\"T_53a26_row0_col0\" class=\"data row0 col0\" >81.303155</td>\n",
       "      <td id=\"T_53a26_row0_col1\" class=\"data row0 col1\" >80.907183</td>\n",
       "      <td id=\"T_53a26_row0_col2\" class=\"data row0 col2\" >80.945643</td>\n",
       "      <td id=\"T_53a26_row0_col3\" class=\"data row0 col3\" >80.912451</td>\n",
       "    </tr>\n",
       "    <tr>\n",
       "      <th id=\"T_53a26_level0_row1\" class=\"row_heading level0 row1\" >Cabrera High School</th>\n",
       "      <td id=\"T_53a26_row1_col0\" class=\"data row1 col0\" >83.676136</td>\n",
       "      <td id=\"T_53a26_row1_col1\" class=\"data row1 col1\" >84.253219</td>\n",
       "      <td id=\"T_53a26_row1_col2\" class=\"data row1 col2\" >83.788382</td>\n",
       "      <td id=\"T_53a26_row1_col3\" class=\"data row1 col3\" >84.287958</td>\n",
       "    </tr>\n",
       "    <tr>\n",
       "      <th id=\"T_53a26_level0_row2\" class=\"row_heading level0 row2\" >Figueroa High School</th>\n",
       "      <td id=\"T_53a26_row2_col0\" class=\"data row2 col0\" >81.198598</td>\n",
       "      <td id=\"T_53a26_row2_col1\" class=\"data row2 col1\" >81.408912</td>\n",
       "      <td id=\"T_53a26_row2_col2\" class=\"data row2 col2\" >80.640339</td>\n",
       "      <td id=\"T_53a26_row2_col3\" class=\"data row2 col3\" >81.384863</td>\n",
       "    </tr>\n",
       "    <tr>\n",
       "      <th id=\"T_53a26_level0_row3\" class=\"row_heading level0 row3\" >Ford High School</th>\n",
       "      <td id=\"T_53a26_row3_col0\" class=\"data row3 col0\" >80.632653</td>\n",
       "      <td id=\"T_53a26_row3_col1\" class=\"data row3 col1\" >81.262712</td>\n",
       "      <td id=\"T_53a26_row3_col2\" class=\"data row3 col2\" >80.403642</td>\n",
       "      <td id=\"T_53a26_row3_col3\" class=\"data row3 col3\" >80.662338</td>\n",
       "    </tr>\n",
       "    <tr>\n",
       "      <th id=\"T_53a26_level0_row4\" class=\"row_heading level0 row4\" >Griffin High School</th>\n",
       "      <td id=\"T_53a26_row4_col0\" class=\"data row4 col0\" >83.369193</td>\n",
       "      <td id=\"T_53a26_row4_col1\" class=\"data row4 col1\" >83.706897</td>\n",
       "      <td id=\"T_53a26_row4_col2\" class=\"data row4 col2\" >84.288089</td>\n",
       "      <td id=\"T_53a26_row4_col3\" class=\"data row4 col3\" >84.013699</td>\n",
       "    </tr>\n",
       "    <tr>\n",
       "      <th id=\"T_53a26_level0_row5\" class=\"row_heading level0 row5\" >Hernandez High School</th>\n",
       "      <td id=\"T_53a26_row5_col0\" class=\"data row5 col0\" >80.866860</td>\n",
       "      <td id=\"T_53a26_row5_col1\" class=\"data row5 col1\" >80.660147</td>\n",
       "      <td id=\"T_53a26_row5_col2\" class=\"data row5 col2\" >81.396140</td>\n",
       "      <td id=\"T_53a26_row5_col3\" class=\"data row5 col3\" >80.857143</td>\n",
       "    </tr>\n",
       "    <tr>\n",
       "      <th id=\"T_53a26_level0_row6\" class=\"row_heading level0 row6\" >Holden High School</th>\n",
       "      <td id=\"T_53a26_row6_col0\" class=\"data row6 col0\" >83.677165</td>\n",
       "      <td id=\"T_53a26_row6_col1\" class=\"data row6 col1\" >83.324561</td>\n",
       "      <td id=\"T_53a26_row6_col2\" class=\"data row6 col2\" >83.815534</td>\n",
       "      <td id=\"T_53a26_row6_col3\" class=\"data row6 col3\" >84.698795</td>\n",
       "    </tr>\n",
       "    <tr>\n",
       "      <th id=\"T_53a26_level0_row7\" class=\"row_heading level0 row7\" >Huang High School</th>\n",
       "      <td id=\"T_53a26_row7_col0\" class=\"data row7 col0\" >81.290284</td>\n",
       "      <td id=\"T_53a26_row7_col1\" class=\"data row7 col1\" >81.512386</td>\n",
       "      <td id=\"T_53a26_row7_col2\" class=\"data row7 col2\" >81.417476</td>\n",
       "      <td id=\"T_53a26_row7_col3\" class=\"data row7 col3\" >80.305983</td>\n",
       "    </tr>\n",
       "    <tr>\n",
       "      <th id=\"T_53a26_level0_row8\" class=\"row_heading level0 row8\" >Johnson High School</th>\n",
       "      <td id=\"T_53a26_row8_col0\" class=\"data row8 col0\" >81.260714</td>\n",
       "      <td id=\"T_53a26_row8_col1\" class=\"data row8 col1\" >80.773431</td>\n",
       "      <td id=\"T_53a26_row8_col2\" class=\"data row8 col2\" >80.616027</td>\n",
       "      <td id=\"T_53a26_row8_col3\" class=\"data row8 col3\" >81.227564</td>\n",
       "    </tr>\n",
       "    <tr>\n",
       "      <th id=\"T_53a26_level0_row9\" class=\"row_heading level0 row9\" >Pena High School</th>\n",
       "      <td id=\"T_53a26_row9_col0\" class=\"data row9 col0\" >83.807273</td>\n",
       "      <td id=\"T_53a26_row9_col1\" class=\"data row9 col1\" >83.612000</td>\n",
       "      <td id=\"T_53a26_row9_col2\" class=\"data row9 col2\" >84.335938</td>\n",
       "      <td id=\"T_53a26_row9_col3\" class=\"data row9 col3\" >84.591160</td>\n",
       "    </tr>\n",
       "    <tr>\n",
       "      <th id=\"T_53a26_level0_row10\" class=\"row_heading level0 row10\" >Rodriguez High School</th>\n",
       "      <td id=\"T_53a26_row10_col0\" class=\"data row10 col0\" >80.993127</td>\n",
       "      <td id=\"T_53a26_row10_col1\" class=\"data row10 col1\" >80.629808</td>\n",
       "      <td id=\"T_53a26_row10_col2\" class=\"data row10 col2\" >80.864811</td>\n",
       "      <td id=\"T_53a26_row10_col3\" class=\"data row10 col3\" >80.376426</td>\n",
       "    </tr>\n",
       "    <tr>\n",
       "      <th id=\"T_53a26_level0_row11\" class=\"row_heading level0 row11\" >Shelton High School</th>\n",
       "      <td id=\"T_53a26_row11_col0\" class=\"data row11 col0\" >84.122642</td>\n",
       "      <td id=\"T_53a26_row11_col1\" class=\"data row11 col1\" >83.441964</td>\n",
       "      <td id=\"T_53a26_row11_col2\" class=\"data row11 col2\" >84.373786</td>\n",
       "      <td id=\"T_53a26_row11_col3\" class=\"data row11 col3\" >82.781671</td>\n",
       "    </tr>\n",
       "    <tr>\n",
       "      <th id=\"T_53a26_level0_row12\" class=\"row_heading level0 row12\" >Thomas High School</th>\n",
       "      <td id=\"T_53a26_row12_col0\" class=\"data row12 col0\" >83.728850</td>\n",
       "      <td id=\"T_53a26_row12_col1\" class=\"data row12 col1\" >84.254157</td>\n",
       "      <td id=\"T_53a26_row12_col2\" class=\"data row12 col2\" >83.585542</td>\n",
       "      <td id=\"T_53a26_row12_col3\" class=\"data row12 col3\" >83.831361</td>\n",
       "    </tr>\n",
       "    <tr>\n",
       "      <th id=\"T_53a26_level0_row13\" class=\"row_heading level0 row13\" >Wilson High School</th>\n",
       "      <td id=\"T_53a26_row13_col0\" class=\"data row13 col0\" >83.939778</td>\n",
       "      <td id=\"T_53a26_row13_col1\" class=\"data row13 col1\" >84.021452</td>\n",
       "      <td id=\"T_53a26_row13_col2\" class=\"data row13 col2\" >83.764608</td>\n",
       "      <td id=\"T_53a26_row13_col3\" class=\"data row13 col3\" >84.317673</td>\n",
       "    </tr>\n",
       "    <tr>\n",
       "      <th id=\"T_53a26_level0_row14\" class=\"row_heading level0 row14\" >Wright High School</th>\n",
       "      <td id=\"T_53a26_row14_col0\" class=\"data row14 col0\" >83.833333</td>\n",
       "      <td id=\"T_53a26_row14_col1\" class=\"data row14 col1\" >83.812757</td>\n",
       "      <td id=\"T_53a26_row14_col2\" class=\"data row14 col2\" >84.156322</td>\n",
       "      <td id=\"T_53a26_row14_col3\" class=\"data row14 col3\" >84.073171</td>\n",
       "    </tr>\n",
       "  </tbody>\n",
       "</table>\n"
      ],
      "text/plain": [
       "<pandas.io.formats.style.Styler at 0x2dba10a8610>"
      ]
     },
     "execution_count": 95,
     "metadata": {},
     "output_type": "execute_result"
    }
   ],
   "source": [
    "# Create table that lists the average reading score for each school of each grade level.\n",
    "ninth_reading = student_data.loc[student_data['grade'] == '9th'].groupby('school_name')[\"reading_score\"].mean()\n",
    "tenth_reading = student_data.loc[student_data['grade'] == '10th'].groupby('school_name')[\"reading_score\"].mean()\n",
    "eleventh_reading = student_data.loc[student_data['grade'] == '11th'].groupby('school_name')[\"reading_score\"].mean()\n",
    "twelfth_reading = student_data.loc[student_data['grade'] == '12th'].groupby('school_name')[\"reading_score\"].mean()\n",
    "\n",
    "#merges the reading score averages by school and grade together\n",
    "reading_scores = pd.DataFrame({\n",
    "        \"9th\": ninth_reading,\n",
    "        \"10th\": tenth_reading,\n",
    "        \"11th\": eleventh_reading,\n",
    "        \"12th\": twelfth_reading\n",
    "})\n",
    "reading_scores = reading_scores[['9th', '10th', '11th', '12th']]\n",
    "reading_scores.index.name = \"School Name\"\n",
    "\n",
    "#format\n",
    "reading_scores.style.format({'9th': '{:.6f}', \n",
    "                             \"10th\": '{:.6f}', \n",
    "                             \"11th\": \"{:.6f}\", \n",
    "                             \"12th\": \"{:.6f}\"})\n"
   ]
  },
  {
   "cell_type": "code",
   "execution_count": null,
   "metadata": {},
   "outputs": [],
   "source": [
    "# Calculate the average reading score for 9th grade in each school\n",
    "\n",
    "\n"
   ]
  },
  {
   "cell_type": "code",
   "execution_count": null,
   "metadata": {},
   "outputs": [],
   "source": [
    "# Calculate the average reading score for 10th grade in each school\n",
    "\n",
    "\n"
   ]
  },
  {
   "cell_type": "code",
   "execution_count": null,
   "metadata": {},
   "outputs": [],
   "source": [
    "# Calculate the average reading score for 11th grade in each school\n",
    "\n",
    "\n"
   ]
  },
  {
   "cell_type": "code",
   "execution_count": null,
   "metadata": {},
   "outputs": [],
   "source": [
    "# Calculate the average reading score for 12th grade in each school\n",
    "\n",
    "\n"
   ]
  },
  {
   "cell_type": "markdown",
   "metadata": {},
   "source": [
    "## Scores by School Spending"
   ]
  },
  {
   "cell_type": "markdown",
   "metadata": {},
   "source": [
    "* Create a table that breaks down school performances based on average Spending Ranges (Per Student). Use 4 reasonable bins to group school spending. Include in the table each of the following:\n",
    "  * Average Math Score\n",
    "  * Average Reading Score\n",
    "  * % Passing Math\n",
    "  * % Passing Reading\n",
    "  * Overall Passing Rate (Average of the above two)"
   ]
  },
  {
   "cell_type": "code",
   "execution_count": 96,
   "metadata": {},
   "outputs": [],
   "source": [
    "# Sample bins. Feel free to create your own bins.\n",
    "spending_bins = [0, 585, 615, 645, 675]\n",
    "group_names = [\"<$585\", \"$585-615\", \"$615-645\", \"$645-675\"]"
   ]
  },
  {
   "cell_type": "code",
   "execution_count": 110,
   "metadata": {
    "scrolled": true
   },
   "outputs": [],
   "source": [
    "# Create a new column to show budget per student in each row\n"
   ]
  },
  {
   "cell_type": "code",
   "execution_count": 102,
   "metadata": {},
   "outputs": [],
   "source": [
    "# Create a new column to define the spending ranges per student\n",
    "\n"
   ]
  },
  {
   "cell_type": "code",
   "execution_count": null,
   "metadata": {},
   "outputs": [],
   "source": [
    "# Calculate the average math score within each spending range\n",
    "\n",
    "\n",
    "\n"
   ]
  },
  {
   "cell_type": "code",
   "execution_count": null,
   "metadata": {},
   "outputs": [],
   "source": [
    "# Calculate the percentage passing rate for math in each spending range\n",
    "\n",
    "\n",
    "\n"
   ]
  },
  {
   "cell_type": "code",
   "execution_count": null,
   "metadata": {},
   "outputs": [],
   "source": [
    "# Calculate the percentage passing rate for reading in each spending range\n",
    "\n",
    "\n"
   ]
  },
  {
   "cell_type": "code",
   "execution_count": null,
   "metadata": {},
   "outputs": [],
   "source": [
    "# Calculate the percentage overall passing rate in each spending range\n",
    "\n",
    "\n"
   ]
  },
  {
   "cell_type": "markdown",
   "metadata": {},
   "source": [
    "### Scores by School Size"
   ]
  },
  {
   "cell_type": "markdown",
   "metadata": {},
   "source": [
    "* Perform the same operations as above, based on school size."
   ]
  },
  {
   "cell_type": "code",
   "execution_count": 104,
   "metadata": {},
   "outputs": [],
   "source": [
    "# Sample bins. Feel free to create your own bins.\n",
    "size_bins = [0, 1000, 2000, 5000]\n",
    "group_names = [\"Small (<1000)\", \"Medium (1000-2000)\", \"Large (2000-5000)\"]"
   ]
  },
  {
   "cell_type": "code",
   "execution_count": 113,
   "metadata": {
    "scrolled": true
   },
   "outputs": [
    {
     "data": {
      "text/html": [
       "<style type=\"text/css\">\n",
       "</style>\n",
       "<table id=\"T_b095a\">\n",
       "  <thead>\n",
       "    <tr>\n",
       "      <th class=\"blank level0\" >&nbsp;</th>\n",
       "      <th id=\"T_b095a_level0_col0\" class=\"col_heading level0 col0\" >Average Math Score</th>\n",
       "      <th id=\"T_b095a_level0_col1\" class=\"col_heading level0 col1\" >Average Reading Score</th>\n",
       "      <th id=\"T_b095a_level0_col2\" class=\"col_heading level0 col2\" >% Passing Math</th>\n",
       "      <th id=\"T_b095a_level0_col3\" class=\"col_heading level0 col3\" >% Passing Reading</th>\n",
       "      <th id=\"T_b095a_level0_col4\" class=\"col_heading level0 col4\" >% Overall Passing</th>\n",
       "    </tr>\n",
       "    <tr>\n",
       "      <th class=\"index_name level0\" >Total Students</th>\n",
       "      <th class=\"blank col0\" >&nbsp;</th>\n",
       "      <th class=\"blank col1\" >&nbsp;</th>\n",
       "      <th class=\"blank col2\" >&nbsp;</th>\n",
       "      <th class=\"blank col3\" >&nbsp;</th>\n",
       "      <th class=\"blank col4\" >&nbsp;</th>\n",
       "    </tr>\n",
       "  </thead>\n",
       "  <tbody>\n",
       "    <tr>\n",
       "      <th id=\"T_b095a_level0_row0\" class=\"row_heading level0 row0\" >Small (<1000)</th>\n",
       "      <td id=\"T_b095a_row0_col0\" class=\"data row0 col0\" >83.828654</td>\n",
       "      <td id=\"T_b095a_row0_col1\" class=\"data row0 col1\" >83.828654</td>\n",
       "      <td id=\"T_b095a_row0_col2\" class=\"data row0 col2\" >93.952484</td>\n",
       "      <td id=\"T_b095a_row0_col3\" class=\"data row0 col3\" >96.040317</td>\n",
       "      <td id=\"T_b095a_row0_col4\" class=\"data row0 col4\" >90.136789</td>\n",
       "    </tr>\n",
       "    <tr>\n",
       "      <th id=\"T_b095a_level0_row1\" class=\"row_heading level0 row1\" >Medium (1000-2000)</th>\n",
       "      <td id=\"T_b095a_row1_col0\" class=\"data row1 col0\" >83.372682</td>\n",
       "      <td id=\"T_b095a_row1_col1\" class=\"data row1 col1\" >83.372682</td>\n",
       "      <td id=\"T_b095a_row1_col2\" class=\"data row1 col2\" >93.616522</td>\n",
       "      <td id=\"T_b095a_row1_col3\" class=\"data row1 col3\" >96.773058</td>\n",
       "      <td id=\"T_b095a_row1_col4\" class=\"data row1 col4\" >90.624267</td>\n",
       "    </tr>\n",
       "    <tr>\n",
       "      <th id=\"T_b095a_level0_row2\" class=\"row_heading level0 row2\" >Large (2000-5000)</th>\n",
       "      <td id=\"T_b095a_row2_col0\" class=\"data row2 col0\" >77.477597</td>\n",
       "      <td id=\"T_b095a_row2_col1\" class=\"data row2 col1\" >77.477597</td>\n",
       "      <td id=\"T_b095a_row2_col2\" class=\"data row2 col2\" >68.652380</td>\n",
       "      <td id=\"T_b095a_row2_col3\" class=\"data row2 col3\" >82.125158</td>\n",
       "      <td id=\"T_b095a_row2_col4\" class=\"data row2 col4\" >56.574046</td>\n",
       "    </tr>\n",
       "  </tbody>\n",
       "</table>\n"
      ],
      "text/plain": [
       "<pandas.io.formats.style.Styler at 0x2db9b6e1eb0>"
      ]
     },
     "execution_count": 113,
     "metadata": {},
     "output_type": "execute_result"
    }
   ],
   "source": [
    "# Create a new column for the bin groups\n",
    "# create size bins\n",
    "bins = [0, 1000, 1999,5000]\n",
    "group_name = [\"Small (<1000)\", \"Medium (1000-2000)\" , \"Large (2000-5000)\"]\n",
    "school_data_complete['size_bins'] = pd.cut(school_data_complete['size'], bins, labels = group_name)\n",
    "\n",
    "#group by spending\n",
    "by_size = school_data_complete.groupby('size_bins')\n",
    "\n",
    "#calculations \n",
    "average_math_score = by_size['math_score'].mean()\n",
    "average_reading_score = by_size['math_score'].mean()\n",
    "pass_math_percent = school_data_complete[school_data_complete['math_score'] >= 70].groupby('size_bins')['Student ID'].count()/by_size['Student ID'].count()*100\n",
    "pass_read_percent = school_data_complete[school_data_complete['reading_score'] >= 70].groupby('size_bins')['Student ID'].count()/by_size['Student ID'].count()*100\n",
    "overall = school_data_complete[(school_data_complete['reading_score'] >= 70) & (school_data_complete['math_score'] >= 70)].groupby('size_bins')['Student ID'].count()/by_size['Student ID'].count()*100\n",
    "\n",
    "            \n",
    "# df build            \n",
    "scores_by_size = pd.DataFrame({\n",
    "    \"Average Math Score\": average_math_score,\n",
    "    \"Average Reading Score\": average_reading_score,\n",
    "    '% Passing Math': pass_math_percent,\n",
    "    '% Passing Reading': pass_read_percent,\n",
    "    '% Overall Passing': overall\n",
    "            \n",
    "})\n",
    "            \n",
    "#reorder columns\n",
    "scores_by_size = scores_by_size[[\n",
    "    \"Average Math Score\",\n",
    "    \"Average Reading Score\",\n",
    "    '% Passing Math',\n",
    "    '% Passing Reading',\n",
    "    '% Overall Passing'\n",
    "]]\n",
    "\n",
    "scores_by_size.index.name = \"Total Students\"\n",
    "scores_by_size = scores_by_size.reindex(group_name)\n",
    "\n",
    "#formating\n",
    "scores_by_size.style.format({'Average Math Score': '{:.6f}', \n",
    "                              'Average Reading Score': '{:.6f}', \n",
    "                              '% Passing Math': '{:.6f}', \n",
    "                              '% Passing Reading':'{:.6f}', \n",
    "                              '% Overall Passing': '{:.6f}'})"
   ]
  },
  {
   "cell_type": "markdown",
   "metadata": {},
   "source": [
    "Look for the total count of test scores that pass 70% or higher\n",
    "\n",
    "\n"
   ]
  },
  {
   "cell_type": "code",
   "execution_count": null,
   "metadata": {},
   "outputs": [],
   "source": [
    "# math_pass_size\n",
    "\n",
    "\n"
   ]
  },
  {
   "cell_type": "code",
   "execution_count": null,
   "metadata": {},
   "outputs": [],
   "source": [
    "# read_pass_size\n",
    "\n",
    "\n"
   ]
  },
  {
   "cell_type": "code",
   "execution_count": null,
   "metadata": {},
   "outputs": [],
   "source": [
    "# Calculate the overall passing rate for different school size\n",
    "\n",
    "\n"
   ]
  },
  {
   "cell_type": "markdown",
   "metadata": {},
   "source": [
    "### Scores by School Type"
   ]
  },
  {
   "cell_type": "markdown",
   "metadata": {},
   "source": [
    "* Perform the same operations as above, based on school type."
   ]
  },
  {
   "cell_type": "code",
   "execution_count": 117,
   "metadata": {},
   "outputs": [
    {
     "data": {
      "text/html": [
       "<style type=\"text/css\">\n",
       "</style>\n",
       "<table id=\"T_23d18\">\n",
       "  <thead>\n",
       "    <tr>\n",
       "      <th class=\"blank level0\" >&nbsp;</th>\n",
       "      <th id=\"T_23d18_level0_col0\" class=\"col_heading level0 col0\" >Average Math Score</th>\n",
       "      <th id=\"T_23d18_level0_col1\" class=\"col_heading level0 col1\" >Average Reading Score</th>\n",
       "      <th id=\"T_23d18_level0_col2\" class=\"col_heading level0 col2\" >% Passing Math</th>\n",
       "      <th id=\"T_23d18_level0_col3\" class=\"col_heading level0 col3\" >% Passing Reading</th>\n",
       "      <th id=\"T_23d18_level0_col4\" class=\"col_heading level0 col4\" >% Overall Passing</th>\n",
       "    </tr>\n",
       "    <tr>\n",
       "      <th class=\"index_name level0\" >Type of School</th>\n",
       "      <th class=\"blank col0\" >&nbsp;</th>\n",
       "      <th class=\"blank col1\" >&nbsp;</th>\n",
       "      <th class=\"blank col2\" >&nbsp;</th>\n",
       "      <th class=\"blank col3\" >&nbsp;</th>\n",
       "      <th class=\"blank col4\" >&nbsp;</th>\n",
       "    </tr>\n",
       "  </thead>\n",
       "  <tbody>\n",
       "    <tr>\n",
       "      <th id=\"T_23d18_level0_row0\" class=\"row_heading level0 row0\" >Charter</th>\n",
       "      <td id=\"T_23d18_row0_col0\" class=\"data row0 col0\" >83.406183</td>\n",
       "      <td id=\"T_23d18_row0_col1\" class=\"data row0 col1\" >83.406183</td>\n",
       "      <td id=\"T_23d18_row0_col2\" class=\"data row0 col2\" >93.701821</td>\n",
       "      <td id=\"T_23d18_row0_col3\" class=\"data row0 col3\" >96.645891</td>\n",
       "      <td id=\"T_23d18_row0_col4\" class=\"data row0 col4\" >90.560932</td>\n",
       "    </tr>\n",
       "    <tr>\n",
       "      <th id=\"T_23d18_level0_row1\" class=\"row_heading level0 row1\" >District</th>\n",
       "      <td id=\"T_23d18_row1_col0\" class=\"data row1 col0\" >76.987026</td>\n",
       "      <td id=\"T_23d18_row1_col1\" class=\"data row1 col1\" >76.987026</td>\n",
       "      <td id=\"T_23d18_row1_col2\" class=\"data row1 col2\" >66.518387</td>\n",
       "      <td id=\"T_23d18_row1_col3\" class=\"data row1 col3\" >80.905249</td>\n",
       "      <td id=\"T_23d18_row1_col4\" class=\"data row1 col4\" >53.695878</td>\n",
       "    </tr>\n",
       "  </tbody>\n",
       "</table>\n"
      ],
      "text/plain": [
       "<pandas.io.formats.style.Styler at 0x2dba35e86a0>"
      ]
     },
     "execution_count": 117,
     "metadata": {},
     "output_type": "execute_result"
    }
   ],
   "source": [
    "# Create bins and groups, school type {'Charter', 'District'}\n",
    "school_type = school_data_complete.groupby(\"type\")\n",
    "\n",
    "average_math_score = school_type['math_score'].mean()\n",
    "average_reading_score = school_type['math_score'].mean()\n",
    "pass_math_percent = school_data_complete[school_data_complete['math_score'] >= 70].groupby('type')['Student ID'].count()/school_type['Student ID'].count()*100\n",
    "pass_read_percent = school_data_complete[school_data_complete['reading_score'] >= 70].groupby('type')['Student ID'].count()/school_type['Student ID'].count()*100\n",
    "overall = school_data_complete[(school_data_complete['reading_score'] >= 70) & (school_data_complete['math_score'] >= 70)].groupby('type')['Student ID'].count()/school_type['Student ID'].count()*100\n",
    "\n",
    "# df build            \n",
    "scores_school_type = pd.DataFrame({\n",
    "    \"Average Math Score\": average_math_score,\n",
    "    \"Average Reading Score\": average_reading_score,\n",
    "    '% Passing Math': pass_math_percent,\n",
    "    '% Passing Reading': pass_read_percent,\n",
    "    \"% Overall Passing\": overall})\n",
    "    \n",
    "#reorder columns\n",
    "scores_schoo_type = scores_school_type[[\n",
    "    \"Average Math Score\",\n",
    "    \"Average Reading Score\",\n",
    "    '% Passing Math',\n",
    "    '% Passing Reading',\n",
    "    \"% Overall Passing\"\n",
    "]]\n",
    "scores_school_type.index.name = \"Type of School\"\n",
    "\n",
    "\n",
    "#formating\n",
    "scores_school_type.style.format({'Average Math Score': '{:.6f}', \n",
    "                              'Average Reading Score': '{:.6f}', \n",
    "                              '% Passing Math': '{:.6f}', \n",
    "                              '% Passing Reading':'{:.6f}', \n",
    "                              '% Overall Passing': '{:.6f}'})\n",
    "\n"
   ]
  },
  {
   "cell_type": "markdown",
   "metadata": {},
   "source": [
    "Find counts of the passing 70 or higher score for the both test\n"
   ]
  },
  {
   "cell_type": "code",
   "execution_count": null,
   "metadata": {},
   "outputs": [],
   "source": [
    "# math pass size\n",
    "\n",
    "\n"
   ]
  },
  {
   "cell_type": "code",
   "execution_count": null,
   "metadata": {},
   "outputs": [],
   "source": [
    "# reading pass size\n",
    "\n"
   ]
  },
  {
   "cell_type": "code",
   "execution_count": null,
   "metadata": {},
   "outputs": [],
   "source": [
    "# Calculate the overall passing rate\n",
    "\n"
   ]
  }
 ],
 "metadata": {
  "anaconda-cloud": {},
  "kernel_info": {
   "name": "python3"
  },
  "kernelspec": {
   "display_name": "Python 3 (ipykernel)",
   "language": "python",
   "name": "python3"
  },
  "language_info": {
   "codemirror_mode": {
    "name": "ipython",
    "version": 3
   },
   "file_extension": ".py",
   "mimetype": "text/x-python",
   "name": "python",
   "nbconvert_exporter": "python",
   "pygments_lexer": "ipython3",
   "version": "3.9.12"
  },
  "latex_envs": {
   "LaTeX_envs_menu_present": true,
   "autoclose": false,
   "autocomplete": true,
   "bibliofile": "biblio.bib",
   "cite_by": "apalike",
   "current_citInitial": 1,
   "eqLabelWithNumbers": true,
   "eqNumInitial": 1,
   "hotkeys": {
    "equation": "Ctrl-E",
    "itemize": "Ctrl-I"
   },
   "labels_anchors": false,
   "latex_user_defs": false,
   "report_style_numbering": false,
   "user_envs_cfg": false
  },
  "nteract": {
   "version": "0.8.4"
  },
  "toc": {
   "base_numbering": 1,
   "nav_menu": {},
   "number_sections": true,
   "sideBar": true,
   "skip_h1_title": false,
   "title_cell": "Table of Contents",
   "title_sidebar": "Contents",
   "toc_cell": false,
   "toc_position": {},
   "toc_section_display": true,
   "toc_window_display": false
  }
 },
 "nbformat": 4,
 "nbformat_minor": 1
}
